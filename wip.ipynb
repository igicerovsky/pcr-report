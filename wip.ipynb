{
 "cells": [
  {
   "cell_type": "markdown",
   "metadata": {},
   "source": [
    "# PCR report Work In Progress :)"
   ]
  },
  {
   "cell_type": "code",
   "execution_count": null,
   "metadata": {},
   "outputs": [],
   "source": [
    "from pcrep import parse_input\n",
    "\n",
    "input = '230901_GN004308-086_20230901_112734_186.csv'\n",
    "dc = parse_input.parse_inputname(input)\n",
    "dc"
   ]
  },
  {
   "cell_type": "code",
   "execution_count": null,
   "metadata": {},
   "outputs": [],
   "source": [
    "# 230901_GN004308-086.md\n",
    "out_name = dc['date'] + dc['gn'] + '.md'\n",
    "out_name"
   ]
  },
  {
   "cell_type": "code",
   "execution_count": null,
   "metadata": {},
   "outputs": [],
   "source": [
    "from pcrep.pcrep import well2idx\n",
    "wrc = well2idx('A02')\n",
    "print(wrc)"
   ]
  },
  {
   "cell_type": "code",
   "execution_count": null,
   "metadata": {},
   "outputs": [],
   "source": [
    "import pandas as pd\n",
    "\n",
    "df = pd.read_csv(\n",
    "    \"./example/230901_GN004308-086/230901_GN004308-086_20230901_112734_186.csv\", delimiter=';')\n",
    "df = df.replace(',', '.', regex=True)\n",
    "CONC_NAME = 'Conc(copies/µL)'\n",
    "df[CONC_NAME] = df[CONC_NAME].astype('Float64')\n",
    "# df.info()\n",
    "\n",
    "DIL_FINAL_FACTOR_NAME = 'final dilution factor'\n",
    "DIL_SAMPLE_DESCRIPTION_NAME = 'Sample name'\n",
    "\n",
    "df_conc = pd.read_csv(\n",
    "    \"./example/230901_GN004308-086/230901_GN004308-086_conc.csv\", header=None)"
   ]
  },
  {
   "cell_type": "code",
   "execution_count": null,
   "metadata": {},
   "outputs": [],
   "source": [
    "df_conc.index = range(1, len(df_conc) + 1)\n",
    "# df_conc[CONC_SAMPLE_NAME] = df_conc.index\n",
    "\n",
    "df_conc.columns = [DIL_SAMPLE_DESCRIPTION_NAME, DIL_FINAL_FACTOR_NAME]\n",
    "df_conc"
   ]
  },
  {
   "cell_type": "code",
   "execution_count": null,
   "metadata": {},
   "outputs": [],
   "source": [
    "df[[\"wr\", \"wc\"]] = df.apply(lambda x: well2idx(\n",
    "    x['Well']), axis='columns', result_type='expand')\n",
    "df.set_index(['wr', 'wc'], inplace=True)"
   ]
  },
  {
   "cell_type": "code",
   "execution_count": null,
   "metadata": {},
   "outputs": [],
   "source": [
    "df"
   ]
  },
  {
   "cell_type": "code",
   "execution_count": null,
   "metadata": {},
   "outputs": [],
   "source": [
    "FDL_NAME = \"final dilution factor\"\n",
    "SAMPLE_NAME = \"Sample\"\n",
    "SAMPLE_NUM_NAME = \"Sample description 1\"\n",
    "\n",
    "df.loc[:, [FDL_NAME]] = df[SAMPLE_NUM_NAME].map(\n",
    "    df_conc[DIL_FINAL_FACTOR_NAME], na_action='ignore')\n",
    "\n",
    "df.loc[:, [SAMPLE_NAME]] = df[SAMPLE_NUM_NAME].map(\n",
    "    df_conc[DIL_SAMPLE_DESCRIPTION_NAME], na_action='ignore')"
   ]
  },
  {
   "cell_type": "code",
   "execution_count": null,
   "metadata": {},
   "outputs": [],
   "source": [
    "def result_fn(conc, dil, a=20.0, b=2.0):\n",
    "    \"\"\"Compute results\n",
    "\n",
    "    Parameters:\n",
    "    conc : float\n",
    "    dil : float\n",
    "        final dilution factor of the sample\n",
    "    a : float\n",
    "        ddPCR Volume 20 µL\n",
    "    b : float\n",
    "        Sample volume in the ddPCR reaction 2 µL\n",
    "    \"\"\"\n",
    "    return ((a * conc) * (1000.0 / b)) * dil\n",
    "\n",
    "\n",
    "WELL_RESULT_NAME = 'vg/ml'\n",
    "df.loc[:, [WELL_RESULT_NAME]] = df.apply(lambda x: result_fn(\n",
    "    x['Conc(copies/µL)'], x['final dilution factor']), axis=1)"
   ]
  },
  {
   "cell_type": "code",
   "execution_count": null,
   "metadata": {},
   "outputs": [],
   "source": [
    "df['Target'].unique()"
   ]
  },
  {
   "cell_type": "code",
   "execution_count": null,
   "metadata": {},
   "outputs": [],
   "source": [
    "df_idt = df.query(\"Target == 'IDT'\")\n",
    "# df_idt\n",
    "\n",
    "targets = df['Target'].unique()\n",
    "dc = dict.fromkeys(targets)\n",
    "for t in targets:\n",
    "    dc[t] = df.query(\"Target == @t\")\n",
    "\n",
    "# dc['ITR']"
   ]
  },
  {
   "cell_type": "code",
   "execution_count": null,
   "metadata": {},
   "outputs": [],
   "source": [
    "dc['ITR'].head()"
   ]
  },
  {
   "cell_type": "code",
   "execution_count": null,
   "metadata": {},
   "outputs": [],
   "source": [
    "df_itr = dc['ITR']"
   ]
  },
  {
   "cell_type": "code",
   "execution_count": null,
   "metadata": {},
   "outputs": [],
   "source": [
    "df_itr.head()"
   ]
  },
  {
   "cell_type": "code",
   "execution_count": null,
   "metadata": {},
   "outputs": [],
   "source": [
    "def get_sample(dfa, sample_num):\n",
    "    # TODO: check for valid `type` `and sample_num`\n",
    "    dfa = dfa.loc[dfa['Sample description 1'] == sample_num]\n",
    "    return dfa"
   ]
  },
  {
   "cell_type": "code",
   "execution_count": null,
   "metadata": {},
   "outputs": [],
   "source": [
    "s = get_sample(dc['ITR'], 22)\n",
    "s"
   ]
  },
  {
   "cell_type": "code",
   "execution_count": null,
   "metadata": {},
   "outputs": [],
   "source": [
    "def process_sample(s):\n",
    "    m = s.loc[:, WELL_RESULT_NAME].mean()\n",
    "    t = s.loc[:, WELL_RESULT_NAME].std(ddof=0)\n",
    "    if isinstance(m, float) and m != 0.0:\n",
    "        cv = t / m\n",
    "    else:\n",
    "        cv = float(\"nan\")\n",
    "    return {'id': s['Sample description 1'][0], 'name': s[SAMPLE_NAME][0], 'mean': m, 'std': t, 'cv': cv}\n",
    "\n",
    "\n",
    "process_sample(s)"
   ]
  },
  {
   "cell_type": "code",
   "execution_count": null,
   "metadata": {},
   "outputs": [],
   "source": [
    "import json\n",
    "\n",
    "params_file = './data/params.json'\n",
    "with open(params_file) as json_file:\n",
    "    check_params = json.load(json_file)\n",
    "print(check_params)\n",
    "\n",
    "\n",
    "def check_sample(sample, ref):\n",
    "    cv_hreshold = ref['assesmentCriteria']['cvThreshold']\n",
    "    passed = True\n",
    "    comment = None\n",
    "    if sample['cv'] > cv_hreshold:\n",
    "        passed = False\n",
    "        comment = \"CV {:.2f} > {:.2f}\".format(sample['cv'], cv_hreshold)\n",
    "    return {\"valid\": passed, \"comment\": comment}\n",
    "\n",
    "\n",
    "check_sample(process_sample(s), check_params)"
   ]
  },
  {
   "cell_type": "code",
   "execution_count": null,
   "metadata": {},
   "outputs": [],
   "source": [
    "def gen_sample_results(df):\n",
    "    targets = df['Target'].unique()\n",
    "    df_res = pd.DataFrame(columns=['id', 'target', 'sample name',\n",
    "                          'result [vg/ml]', 'STDE', 'CV [%]', 'comment', 'Valid', 'info'])\n",
    "    for t in targets:\n",
    "        dft = df.query(\"Target == @t\")\n",
    "        samples = dft[SAMPLE_NUM_NAME].unique()\n",
    "        for n in samples:\n",
    "            r = process_sample(get_sample(dft, n))\n",
    "            check = check_sample(r, check_params)\n",
    "            df_res.loc[len(df_res)] = [r['id'], t, r['name'],\n",
    "                                       r['mean'], r['std'], r['cv'],\n",
    "                                       check['comment'], check['valid'], None]\n",
    "\n",
    "    return df_res\n",
    "\n",
    "\n",
    "df_t = gen_sample_results(df)\n",
    "df_t"
   ]
  }
 ],
 "metadata": {
  "kernelspec": {
   "display_name": "base",
   "language": "python",
   "name": "python3"
  },
  "language_info": {
   "codemirror_mode": {
    "name": "ipython",
    "version": 3
   },
   "file_extension": ".py",
   "mimetype": "text/x-python",
   "name": "python",
   "nbconvert_exporter": "python",
   "pygments_lexer": "ipython3",
   "version": "3.10.10"
  },
  "orig_nbformat": 4
 },
 "nbformat": 4,
 "nbformat_minor": 2
}
