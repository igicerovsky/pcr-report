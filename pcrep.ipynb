{
 "cells": [
  {
   "cell_type": "markdown",
   "metadata": {},
   "source": [
    "# PCR report Work In Progress :)"
   ]
  },
  {
   "cell_type": "code",
   "execution_count": null,
   "metadata": {},
   "outputs": [],
   "source": [
    "import pandas as pd\n",
    "import os\n",
    "\n",
    "from pcrep.parse_input import parse_analysis_filepath\n",
    "from pcrep.constants import CONC_NAME, DIL_FINAL_FACTOR_NAME, DIL_TYPE_NAME, DIL_SAMPLE_DESCRIPTION_NAME, SAMPLE_ID_NAME, CV_COLNAME\n",
    "\n",
    "INPUT_PCR_DATA = \"./example/231108_GN004773-019/230811_GN004773-019_20230811_100101_999.csv\"\n",
    "CONFIG_DIR = \"C:/work/pcr-report/data\"\n",
    "df = pd.read_csv(INPUT_PCR_DATA, delimiter=';', decimal=',')\n",
    "# df = df.replace(',', '.', regex=True)\n",
    "df[CONC_NAME] = df[CONC_NAME].astype('Float64')\n",
    "\n",
    "parsedc = parse_analysis_filepath(INPUT_PCR_DATA)\n",
    "ANALYSIS_DIR = parsedc['analysis_dir']\n",
    "\n",
    "BASE_FILEPATH = os.path.join(\n",
    "    ANALYSIS_DIR, '{}_{}'.format(parsedc['date'], parsedc['gn']))\n",
    "display(ANALYSIS_DIR)\n",
    "display(BASE_FILEPATH)"
   ]
  },
  {
   "cell_type": "code",
   "execution_count": null,
   "metadata": {},
   "outputs": [],
   "source": [
    "df"
   ]
  },
  {
   "cell_type": "code",
   "execution_count": null,
   "metadata": {},
   "outputs": [],
   "source": [
    "INPUT_CONCENTRATION_DATA = BASE_FILEPATH + '_conc.csv'\n",
    "df_conc = pd.read_csv(INPUT_CONCENTRATION_DATA, sep=\";\", decimal=',')\n",
    "CONC_NAME\n",
    "df_conc.set_index([SAMPLE_ID_NAME], inplace=True)\n",
    "df_conc"
   ]
  },
  {
   "cell_type": "code",
   "execution_count": null,
   "metadata": {},
   "outputs": [],
   "source": [
    "from pcrep.constants import FDL_NAME, SAMPLE_NAME, SAMPLE_TYPE_NAME, SAMPLE_NUM_NAME\n",
    "\n",
    "\n",
    "df.loc[:, [FDL_NAME]] = df[SAMPLE_NUM_NAME].map(\n",
    "    df_conc[DIL_FINAL_FACTOR_NAME], na_action='ignore')\n",
    "\n",
    "\n",
    "df.loc[:, [SAMPLE_NAME]] = df[SAMPLE_NUM_NAME].map(\n",
    "    df_conc[DIL_SAMPLE_DESCRIPTION_NAME], na_action='ignore')\n",
    "\n",
    "\n",
    "df.loc[:, [SAMPLE_TYPE_NAME]] = df[SAMPLE_NUM_NAME].map(\n",
    "    df_conc[DIL_TYPE_NAME], na_action='ignore')\n",
    "\n",
    "\n",
    "df = df.dropna(subset=[SAMPLE_TYPE_NAME])\n",
    "df"
   ]
  },
  {
   "cell_type": "code",
   "execution_count": null,
   "metadata": {},
   "outputs": [],
   "source": [
    "targets = df['Target'].unique()\n",
    "display(targets)\n",
    "samples = df['Sample description 1'].unique()\n",
    "samples.sort()\n",
    "display(samples)"
   ]
  },
  {
   "cell_type": "markdown",
   "metadata": {},
   "source": [
    "## Compute results"
   ]
  },
  {
   "cell_type": "code",
   "execution_count": null,
   "metadata": {},
   "outputs": [],
   "source": [
    "from pcrep.constants import WELL_RESULT_NAME\n",
    "from pcrep.pcrep import result_fn\n",
    "\n",
    "\n",
    "df.loc[:, [WELL_RESULT_NAME]] = df.apply(lambda x: result_fn(\n",
    "    x['Conc(copies/µL)'], x['final dilution factor']), axis=1)"
   ]
  },
  {
   "cell_type": "markdown",
   "metadata": {},
   "source": [
    "### Limits"
   ]
  },
  {
   "cell_type": "code",
   "execution_count": null,
   "metadata": {},
   "outputs": [],
   "source": [
    "PLASMID_CONTROL_LIMITS_FILE = 'plasmid_control_limits.csv'\n",
    "palsmid_control_limits = pd.read_csv(\n",
    "    os.path.join(CONFIG_DIR, PLASMID_CONTROL_LIMITS_FILE))\n",
    "palsmid_control_limits.set_index(['Target'], inplace=True)\n",
    "palsmid_control_limits"
   ]
  },
  {
   "cell_type": "code",
   "execution_count": null,
   "metadata": {},
   "outputs": [],
   "source": [
    "REFERENCE_CONTROL_LIMITS_FILE = 'reference_control_limits.csv'\n",
    "reference_control_limits = pd.read_csv(\n",
    "    os.path.join(CONFIG_DIR, REFERENCE_CONTROL_LIMITS_FILE))\n",
    "reference_control_limits.set_index(['Target'], inplace=True)\n",
    "reference_control_limits"
   ]
  },
  {
   "cell_type": "markdown",
   "metadata": {},
   "source": [
    "How to access limits"
   ]
  },
  {
   "cell_type": "code",
   "execution_count": null,
   "metadata": {},
   "outputs": [],
   "source": [
    "rcl = reference_control_limits\n",
    "lmts = rcl.loc['IDT']\n",
    "lmts['upper 3s action']"
   ]
  },
  {
   "cell_type": "code",
   "execution_count": null,
   "metadata": {},
   "outputs": [],
   "source": [
    "method_limits = pd.read_csv('./data/method_limits.csv')\n",
    "method_limits.set_index(['target_id'], inplace=True)\n",
    "display(method_limits)\n",
    "\n",
    "dc_limits = {'method': method_limits, 'reference_control': reference_control_limits,\n",
    "             'plasmid_control': palsmid_control_limits}"
   ]
  },
  {
   "cell_type": "code",
   "execution_count": null,
   "metadata": {},
   "outputs": [],
   "source": [
    "method_limits.loc['IDT']['Lower [vg/μl]']\n",
    "mlmts = method_limits.loc['IDT']\n",
    "mlmts['Lower [vg/μl]']"
   ]
  },
  {
   "cell_type": "markdown",
   "metadata": {},
   "source": [
    "### Multiindex ????"
   ]
  },
  {
   "cell_type": "code",
   "execution_count": null,
   "metadata": {},
   "outputs": [],
   "source": [
    "dfi = df.copy()\n",
    "dfi.reset_index(inplace=True)\n",
    "dfi.rename(columns={'Sample description 1': SAMPLE_ID_NAME}, inplace=True)\n",
    "dfi.set_index([SAMPLE_ID_NAME, 'Target', 'Well'], inplace=True)\n",
    "dfi.sort_index(inplace=True)\n",
    "dfi.sort_index(axis=1)\n",
    "dfi.drop(['Sample description 2', 'Sample description 3', 'Sample description 4',\n",
    "          'TargetType', 'Supermix', 'Status', 'Experiment', 'SampleType'],\n",
    "         axis=1, inplace=True)"
   ]
  },
  {
   "cell_type": "markdown",
   "metadata": {},
   "source": [
    "Compute mean and standard deviation of `[vg/ml]`"
   ]
  },
  {
   "cell_type": "code",
   "execution_count": null,
   "metadata": {},
   "outputs": [],
   "source": [
    "dfi.loc[:, ['mean [vg/ml]']\n",
    "        ] = dfi.groupby(level=[\"sample_id\", 'Target']).apply(lambda x: x['vg/ml'].mean())\n",
    "\n",
    "dfi.loc[:, ['STDE']] = dfi.groupby(level=[\"sample_id\", 'Target']).apply(\n",
    "    lambda x: x['vg/ml'].std(ddof=0))\n",
    "# dfi.head()"
   ]
  },
  {
   "cell_type": "code",
   "execution_count": null,
   "metadata": {},
   "outputs": [],
   "source": [
    "from pcrep.check import cv_fn\n",
    "\n",
    "dfi.loc[:, [CV_COLNAME]] = dfi.apply(lambda x: cv_fn(\n",
    "    x['mean [vg/ml]'], x['STDE'], x['sample type']), axis=1)\n",
    "dfi"
   ]
  },
  {
   "cell_type": "markdown",
   "metadata": {},
   "source": [
    "### Method check"
   ]
  },
  {
   "cell_type": "code",
   "execution_count": null,
   "metadata": {},
   "outputs": [],
   "source": [
    "from pcrep.check import method_check_fn\n",
    "from pcrep.constants import VALUE_CHECK_NAME\n",
    "\n",
    "dfi.loc[:, [VALUE_CHECK_NAME]] = dfi.apply(\n",
    "    lambda x: method_check_fn(x, dc_limits), axis=1)\n",
    "\n",
    "\n",
    "dfi.head()"
   ]
  },
  {
   "cell_type": "markdown",
   "metadata": {},
   "source": [
    "### Droplets check"
   ]
  },
  {
   "cell_type": "code",
   "execution_count": null,
   "metadata": {},
   "outputs": [],
   "source": [
    "from pcrep.check import droplets_check_fn\n",
    "from pcrep.constants import DROPLET_CHECK_NAME\n",
    "\n",
    "dfi.loc[:, [DROPLET_CHECK_NAME]] = dfi.apply(\n",
    "    lambda x: droplets_check_fn(x), axis=1)\n",
    "dfi.head()"
   ]
  },
  {
   "cell_type": "markdown",
   "metadata": {},
   "source": [
    "#### Control check"
   ]
  },
  {
   "cell_type": "code",
   "execution_count": null,
   "metadata": {},
   "outputs": [],
   "source": [
    "from pcrep.check import control_check_fn, warning_check_fn\n",
    "from pcrep.constants import CONTROL_CHECK_NAME, WARNING_CHECK_NAME, CV_CHECK_NAME\n",
    "\n",
    "\n",
    "dfi.loc[:, [CONTROL_CHECK_NAME]] = dfi.apply(\n",
    "    lambda x: control_check_fn(x, dc_limits), axis=1)\n",
    "\n",
    "\n",
    "dfi.loc[:, [WARNING_CHECK_NAME]] = dfi.apply(\n",
    "    lambda x: warning_check_fn(x, dc_limits), axis=1)\n",
    "\n",
    "dfi.head()"
   ]
  },
  {
   "cell_type": "markdown",
   "metadata": {},
   "source": [
    "#### CV check"
   ]
  },
  {
   "cell_type": "code",
   "execution_count": null,
   "metadata": {},
   "outputs": [],
   "source": [
    "from pcrep.check import cv_check\n",
    "\n",
    "dfi.loc[:, [CV_CHECK_NAME]] = dfi.apply(\n",
    "    lambda x: cv_check(x[CV_COLNAME]), axis=1)"
   ]
  },
  {
   "cell_type": "markdown",
   "metadata": {},
   "source": [
    "### Analysis dataframe export to excel"
   ]
  },
  {
   "cell_type": "code",
   "execution_count": null,
   "metadata": {},
   "outputs": [],
   "source": [
    "from pcrep.check import concat_comments\n",
    "\n",
    "dfi = dfi.assign(comments=dfi.apply(lambda x: concat_comments(x), axis=1))\n",
    "dfi\n",
    "dfc = dfi.copy()"
   ]
  },
  {
   "cell_type": "code",
   "execution_count": null,
   "metadata": {},
   "outputs": [],
   "source": [
    "dfc"
   ]
  },
  {
   "cell_type": "code",
   "execution_count": null,
   "metadata": {},
   "outputs": [],
   "source": [
    "col_order = ['Sample', 'final dilution factor', 'Conc(copies/µL)',\n",
    "             'vg/ml', 'mean [vg/ml]', 'STDE', 'CV [%]', 'comments',\n",
    "             'Accepted Droplets', 'Positives', 'Negatives', 'sample type']\n",
    "dfi = dfi.loc[:, col_order]\n",
    "dfi"
   ]
  },
  {
   "cell_type": "code",
   "execution_count": null,
   "metadata": {},
   "outputs": [],
   "source": [
    "# format_mapping = {'Conc(copies/µL)': '{:.2f}',\n",
    "#                   'vg/ml': '{:.2e}',\n",
    "#                   'mean [vg/ml]': '{:.2e}',\n",
    "#                   'STDE': '{:.2e}',\n",
    "#                   'CV [%]': '{:.2f}',\n",
    "#                   'final dilution factor': '{:.0e}'\n",
    "#                   }\n",
    "# dff = dfi.style.format(format_mapping)\n",
    "# display(dff)\n",
    "# dff.to_excel(BASE_FILEPATH + '-data_analysis_raw.xlsx', engine='openpyxl')\n",
    "# dfi.to_markdown(BASE_FILEPATH + '-data_analysis.md')"
   ]
  },
  {
   "cell_type": "code",
   "execution_count": null,
   "metadata": {},
   "outputs": [],
   "source": [
    "from pcrep.xlswriter import analysis_to_excel\n",
    "\n",
    "xls_analysis_file = BASE_FILEPATH + '-data_analysis.xlsx'\n",
    "analysis_to_excel(dfi, xls_analysis_file)"
   ]
  },
  {
   "cell_type": "markdown",
   "metadata": {},
   "source": [
    "#### Get sample..."
   ]
  },
  {
   "cell_type": "code",
   "execution_count": null,
   "metadata": {},
   "outputs": [],
   "source": [
    "# def get_sample(df, samnple_num, target_id=None):\n",
    "#     idx = pd.IndexSlice\n",
    "#     if target_id:\n",
    "#         return df.loc[idx[samnple_num, target_id, :], :]\n",
    "#     else:\n",
    "#         return df.loc[idx[samnple_num, :, :], :]\n",
    "from pcrep.final import get_sample\n",
    "\n",
    "tmps = get_sample(dfi, 2)\n",
    "tmps"
   ]
  },
  {
   "cell_type": "code",
   "execution_count": null,
   "metadata": {},
   "outputs": [],
   "source": [
    "idxs = pd.IndexSlice\n",
    "tmps.loc[idxs[2, ['IDT'], :], :]['mean [vg/ml]'].values"
   ]
  },
  {
   "cell_type": "code",
   "execution_count": null,
   "metadata": {},
   "outputs": [],
   "source": [
    "import json\n",
    "\n",
    "params_file = './data/params.json'\n",
    "with open(params_file) as json_file:\n",
    "    check_params = json.load(json_file)\n",
    "# print(check_params)"
   ]
  },
  {
   "cell_type": "markdown",
   "metadata": {},
   "source": [
    "## Export report"
   ]
  },
  {
   "cell_type": "markdown",
   "metadata": {},
   "source": [
    "### Create final (MS Word) dataframe"
   ]
  },
  {
   "cell_type": "code",
   "execution_count": null,
   "metadata": {},
   "outputs": [],
   "source": [
    "tmps.index"
   ]
  },
  {
   "cell_type": "code",
   "execution_count": null,
   "metadata": {},
   "outputs": [],
   "source": [
    "idxs = pd.IndexSlice\n",
    "display(tmps.loc[idxs[2, ['IDT'], :], :]['mean [vg/ml]'].values[0])\n",
    "display(tmps.loc[idxs[2, ['IDT'], :], :]['Sample'].values[0])\n",
    "display(tmps.index[0])\n",
    "tmps.index.get_level_values('Target').unique()"
   ]
  },
  {
   "cell_type": "code",
   "execution_count": null,
   "metadata": {},
   "outputs": [],
   "source": [
    "tmps.index.get_level_values(SAMPLE_ID_NAME).unique()[0]\n",
    "tmps['Sample'].array[0]"
   ]
  },
  {
   "cell_type": "code",
   "execution_count": null,
   "metadata": {},
   "outputs": [],
   "source": [
    "from pcrep.final import make_final\n",
    "\n",
    "dff = make_final(dfc, samples)\n",
    "\n",
    "\n",
    "display(dff)"
   ]
  },
  {
   "cell_type": "code",
   "execution_count": null,
   "metadata": {},
   "outputs": [],
   "source": [
    "from pcrep.xlswriter import final_to_excel\n",
    "\n",
    "final_to_excel(dff, BASE_FILEPATH + '-final.xlsx')"
   ]
  },
  {
   "cell_type": "markdown",
   "metadata": {},
   "source": [
    "#### Checks"
   ]
  },
  {
   "cell_type": "code",
   "execution_count": null,
   "metadata": {},
   "outputs": [],
   "source": [
    "s = get_sample(dfc, 1)\n",
    "s"
   ]
  },
  {
   "cell_type": "markdown",
   "metadata": {},
   "source": [
    "### Markdown and word export"
   ]
  },
  {
   "cell_type": "code",
   "execution_count": null,
   "metadata": {},
   "outputs": [],
   "source": [
    "# with open('md_intro.md', 'r') as f:\n",
    "#     md_intro = f.read()\n",
    "# with open('md_end.md', 'r') as f:\n",
    "#     md_end = f.read()\n",
    "\n",
    "# md_eval = final.to_markdown()\n",
    "\n",
    "# md = md_intro + md_eval + md_end\n",
    "\n",
    "\n",
    "# def save_md(file_path, md_txt):\n",
    "#     try:\n",
    "#         with open(file_path, 'w') as fl:\n",
    "#             fl.write(md_txt)\n",
    "#     except Exception as e:\n",
    "#         print('Error: ' + str(e))\n",
    "\n",
    "\n",
    "# MD_FILE = './example/230901_GN004308-086/230901_GN004308-086.md'\n",
    "# save_md(MD_FILE, md)\n",
    "\n",
    "# xls_path = os.path.splitext(MD_FILE)[0] + '.xlsx'\n",
    "# final.to_excel(xls_path)"
   ]
  },
  {
   "cell_type": "code",
   "execution_count": null,
   "metadata": {},
   "outputs": [],
   "source": [
    "# from pcrep import mdhandling\n",
    "\n",
    "# with open(os.path.join(DATA_DIR, \"config.json\")) as json_file:\n",
    "#     jd = json.load(json_file)\n",
    "#     reference_doc = jd['reference_docx']\n",
    "#     pdflatex_bin = jd['pdflatex_bin']\n",
    "#     pandoc_bin = jd['pandoc_bin']\n",
    "\n",
    "# mdhandling.md2docx(pandoc_bin, reference_doc, MD_FILE)\n",
    "# print(\"Done.\")"
   ]
  },
  {
   "cell_type": "code",
   "execution_count": null,
   "metadata": {},
   "outputs": [],
   "source": [
    "# ! pip install jinja2\n",
    "# ! pip install tabulate\n",
    "# ! pip install xlsxwriter\n",
    "# ! pip install mypy\n",
    "# ! python -m pip install --upgrade pandas"
   ]
  }
 ],
 "metadata": {
  "kernelspec": {
   "display_name": "base",
   "language": "python",
   "name": "python3"
  },
  "language_info": {
   "codemirror_mode": {
    "name": "ipython",
    "version": 3
   },
   "file_extension": ".py",
   "mimetype": "text/x-python",
   "name": "python",
   "nbconvert_exporter": "python",
   "pygments_lexer": "ipython3",
   "version": "3.10.10"
  },
  "orig_nbformat": 4
 },
 "nbformat": 4,
 "nbformat_minor": 2
}
