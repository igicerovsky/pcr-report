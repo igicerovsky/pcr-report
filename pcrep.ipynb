{
 "cells": [
  {
   "cell_type": "markdown",
   "metadata": {},
   "source": [
    "# PCR report Work In Progress :)"
   ]
  },
  {
   "cell_type": "code",
   "execution_count": null,
   "metadata": {},
   "outputs": [],
   "source": [
    "DATA_DIR = './data'"
   ]
  },
  {
   "cell_type": "code",
   "execution_count": null,
   "metadata": {},
   "outputs": [],
   "source": [
    "from pcrep import parse_input\n",
    "\n",
    "input = '230901_GN004308-086_20230901_112734_186.csv'\n",
    "dc = parse_input.parse_inputname(input)\n",
    "dc"
   ]
  },
  {
   "cell_type": "code",
   "execution_count": null,
   "metadata": {},
   "outputs": [],
   "source": [
    "# 230901_GN004308-086.md\n",
    "out_name = dc['date'] + dc['gn'] + '.md'\n",
    "out_name"
   ]
  },
  {
   "cell_type": "code",
   "execution_count": null,
   "metadata": {},
   "outputs": [],
   "source": [
    "import pandas as pd\n",
    "import os\n",
    "\n",
    "INPUT_PCR_DATA = \"./example/230901_GN004308-086/230901_GN004308-086_20230901_112734_186.csv\"\n",
    "df = pd.read_csv(INPUT_PCR_DATA, delimiter=';')\n",
    "df = df.replace(',', '.', regex=True)\n",
    "CONC_NAME = 'Conc(copies/µL)'\n",
    "df[CONC_NAME] = df[CONC_NAME].astype('Float64')\n",
    "\n",
    "DIL_FINAL_FACTOR_NAME = 'final dilution factor'\n",
    "DIL_SAMPLE_DESCRIPTION_NAME = 'Sample name'\n",
    "DIL_TYPE_NAME = 'type'\n",
    "\n",
    "\n",
    "def get_dir(path_name):\n",
    "    if not os.path.isfile(path_name):\n",
    "        raise Exception('Not file!')\n",
    "    return os.path.split(path_name)[0]\n",
    "\n",
    "\n",
    "WORK_DIR = get_dir(INPUT_PCR_DATA)\n",
    "\n",
    "parsedc = parse_input.parse_inputname(os.path.split(INPUT_PCR_DATA)[1])\n",
    "BASE_FILEPATH = os.path.join(\n",
    "    WORK_DIR, '{}_{}'.format(parsedc['date'], parsedc['gn']))\n",
    "display(WORK_DIR)\n",
    "display(BASE_FILEPATH)"
   ]
  },
  {
   "cell_type": "code",
   "execution_count": null,
   "metadata": {},
   "outputs": [],
   "source": [
    "INPUT_CONCENTRATION_DATA = \"./example/230901_GN004308-086/230901_GN004308-086_conc.csv\"\n",
    "df_conc = pd.read_csv(INPUT_CONCENTRATION_DATA)\n",
    "\n",
    "df_conc.set_index(['sample_id'], inplace=True)\n",
    "df_conc"
   ]
  },
  {
   "cell_type": "code",
   "execution_count": null,
   "metadata": {},
   "outputs": [],
   "source": [
    "FDL_NAME = \"final dilution factor\"\n",
    "SAMPLE_NAME = \"Sample\"\n",
    "SAMPLE_TYPE_NAME = \"sample type\"\n",
    "SAMPLE_NUM_NAME = \"Sample description 1\"\n",
    "\n",
    "df.loc[:, [FDL_NAME]] = df[SAMPLE_NUM_NAME].map(\n",
    "    df_conc[DIL_FINAL_FACTOR_NAME], na_action='ignore')\n",
    "\n",
    "df.loc[:, [SAMPLE_NAME]] = df[SAMPLE_NUM_NAME].map(\n",
    "    df_conc[DIL_SAMPLE_DESCRIPTION_NAME], na_action='ignore')\n",
    "\n",
    "df.loc[:, [SAMPLE_TYPE_NAME]] = df[SAMPLE_NUM_NAME].map(\n",
    "    df_conc[DIL_TYPE_NAME], na_action='ignore')\n",
    "\n",
    "df = df.dropna(subset=[SAMPLE_TYPE_NAME])\n",
    "df"
   ]
  },
  {
   "cell_type": "markdown",
   "metadata": {},
   "source": [
    "## Compute results"
   ]
  },
  {
   "cell_type": "code",
   "execution_count": null,
   "metadata": {},
   "outputs": [],
   "source": [
    "def result_fn(conc, dil, a=20.0, b=2.0):\n",
    "    \"\"\"Compute results\n",
    "\n",
    "    Parameters:\n",
    "    conc : float\n",
    "    dil : float\n",
    "        final dilution factor of the sample\n",
    "    a : float\n",
    "        ddPCR Volume 20 µL\n",
    "    b : float\n",
    "        Sample volume in the ddPCR reaction 2 µL\n",
    "    \"\"\"\n",
    "    return ((a * conc) * (1000.0 / b)) * dil\n",
    "\n",
    "\n",
    "WELL_RESULT_NAME = 'vg/ml'\n",
    "df.loc[:, [WELL_RESULT_NAME]] = df.apply(lambda x: result_fn(\n",
    "    x['Conc(copies/µL)'], x['final dilution factor']), axis=1)"
   ]
  },
  {
   "cell_type": "markdown",
   "metadata": {},
   "source": [
    "### Limits"
   ]
  },
  {
   "cell_type": "code",
   "execution_count": null,
   "metadata": {},
   "outputs": [],
   "source": [
    "PLASMID_CONTROL_LIMITS_FILE = 'plasmid_control_limits.csv'\n",
    "palsmid_control_limits = pd.read_csv(\n",
    "    os.path.join(DATA_DIR, PLASMID_CONTROL_LIMITS_FILE))\n",
    "palsmid_control_limits.set_index(['Target'], inplace=True)\n",
    "palsmid_control_limits"
   ]
  },
  {
   "cell_type": "code",
   "execution_count": null,
   "metadata": {},
   "outputs": [],
   "source": [
    "REFERENCE_CONTROL_LIMITS_FILE = 'reference_control_limits.csv'\n",
    "reference_control_limits = pd.read_csv(\n",
    "    os.path.join(DATA_DIR, REFERENCE_CONTROL_LIMITS_FILE))\n",
    "reference_control_limits.set_index(['Target'], inplace=True)\n",
    "reference_control_limits"
   ]
  },
  {
   "cell_type": "markdown",
   "metadata": {},
   "source": [
    "How to access limits"
   ]
  },
  {
   "cell_type": "code",
   "execution_count": null,
   "metadata": {},
   "outputs": [],
   "source": [
    "rcl = reference_control_limits\n",
    "lmts = rcl.loc['IDT']\n",
    "lmts['upper 3s action']"
   ]
  },
  {
   "cell_type": "code",
   "execution_count": null,
   "metadata": {},
   "outputs": [],
   "source": [
    "from pcrep.check import METHOD_LIMIT_MULTIPLIER_NEGATIVE_CONTROL\n",
    "METHOD_TARGET_ID = 'IDT'\n",
    "METHOD_LIMIT_MULTIPLIER = 1.0e3  # conversion μl -> ml\n",
    "method_limits = pd.read_csv('./data/method_limits.csv')\n",
    "\n",
    "# method_limits['Lower [vg/μl]'] = method_limits['Lower [vg/μl]'].multiply(\n",
    "#     METHOD_LIMIT_MULTIPLIER)\n",
    "# method_limits.rename(columns={\"Lower [vg/μl]\": \"Lower [vg/ml]\"}, inplace=True)\n",
    "\n",
    "# method_limits['Upper [vg/μl]'] = method_limits['Upper [vg/μl]'].multiply(\n",
    "#     METHOD_LIMIT_MULTIPLIER)\n",
    "# method_limits.rename(columns={\"Upper [vg/μl]\": \"Upper [vg/ml]\"}, inplace=True)\n",
    "\n",
    "method_limits.set_index(['target_id'], inplace=True)\n",
    "display(method_limits)\n",
    "\n",
    "dc_limits = {'method': method_limits, 'reference_control': reference_control_limits,\n",
    "             'plasmid_control': palsmid_control_limits}"
   ]
  },
  {
   "cell_type": "code",
   "execution_count": null,
   "metadata": {},
   "outputs": [],
   "source": [
    "method_limits.loc['IDT']['Lower [vg/μl]']\n",
    "mlmts = method_limits.loc['IDT']\n",
    "mlmts['Lower [vg/μl]']"
   ]
  },
  {
   "cell_type": "code",
   "execution_count": null,
   "metadata": {},
   "outputs": [],
   "source": [
    "targets = df['Target'].unique()"
   ]
  },
  {
   "cell_type": "markdown",
   "metadata": {},
   "source": [
    "### Multiindex ????"
   ]
  },
  {
   "cell_type": "code",
   "execution_count": null,
   "metadata": {},
   "outputs": [],
   "source": [
    "dfi = df.copy()\n",
    "dfi.reset_index(inplace=True)\n",
    "dfi.rename(columns={'Sample description 1': 'sample_id'}, inplace=True)\n",
    "dfi.set_index(['sample_id', 'Target', 'Well'], inplace=True)\n",
    "dfi.sort_index(inplace=True)\n",
    "dfi.sort_index(axis=1)\n",
    "dfi.drop(['Sample description 2', 'Sample description 3', 'Sample description 4',\n",
    "          'TargetType', 'Supermix', 'Status', 'Experiment', 'SampleType'],\n",
    "         axis=1, inplace=True)"
   ]
  },
  {
   "cell_type": "markdown",
   "metadata": {},
   "source": [
    "Compute mean and standard deviation of `[vg/ml]`"
   ]
  },
  {
   "cell_type": "code",
   "execution_count": null,
   "metadata": {},
   "outputs": [],
   "source": [
    "dfi.loc[:, ['mean [vg/ml]']\n",
    "        ] = dfi.groupby(level=[\"sample_id\", 'Target']).apply(lambda x: x['vg/ml'].mean())\n",
    "\n",
    "dfi.loc[:, ['STDE']] = dfi.groupby(level=[\"sample_id\", 'Target']).apply(\n",
    "    lambda x: x['vg/ml'].std(ddof=0))\n",
    "# dfi.head()"
   ]
  },
  {
   "cell_type": "code",
   "execution_count": null,
   "metadata": {},
   "outputs": [],
   "source": [
    "def cv_fn(mean_vam: float, std_val: float, stype: str):\n",
    "    cv = float(\"nan\")\n",
    "    # cv is not applied to negative samples\n",
    "    if stype == 'nc':\n",
    "        return cv\n",
    "\n",
    "    if isinstance(mean_vam, float) and mean_vam != 0.0:\n",
    "        cv = 100.0 * std_val / mean_vam\n",
    "    return cv\n",
    "\n",
    "\n",
    "CV_COLNAME = 'CV [%]'\n",
    "dfi.loc[:, [CV_COLNAME]] = dfi.apply(lambda x: cv_fn(\n",
    "    x['mean [vg/ml]'], x['STDE'], x['sample type']), axis=1)\n",
    "dfi"
   ]
  },
  {
   "cell_type": "markdown",
   "metadata": {},
   "source": [
    "### Method check"
   ]
  },
  {
   "cell_type": "code",
   "execution_count": null,
   "metadata": {},
   "outputs": [],
   "source": [
    "from pcrep.check import method_check_routing\n",
    "\n",
    "METHOD_CHECK_COLNAME = 'Conc(copies/µL)'\n",
    "\n",
    "\n",
    "def method_check_fn(s):\n",
    "    return method_check_routing(dc_limits['method'], s[SAMPLE_TYPE_NAME],\n",
    "                                s[METHOD_CHECK_COLNAME], s.name[1])\n",
    "\n",
    "\n",
    "VALUE_CHECK_NAME = 'method_check'\n",
    "dfi.loc[:, [VALUE_CHECK_NAME]] = dfi.apply(\n",
    "    lambda x: method_check_fn(x), axis=1)\n",
    "dfi.head()"
   ]
  },
  {
   "cell_type": "markdown",
   "metadata": {},
   "source": [
    "### Droplets check"
   ]
  },
  {
   "cell_type": "code",
   "execution_count": null,
   "metadata": {},
   "outputs": [],
   "source": [
    "from pcrep.check import droplets_check\n",
    "\n",
    "DROPLET_THRESHOLD = int(10000)\n",
    "DROPLET_CHECK_COLNAME = 'Accepted Droplets'\n",
    "\n",
    "\n",
    "def droplets_check_fn(s):\n",
    "    return droplets_check(s[DROPLET_CHECK_COLNAME], DROPLET_THRESHOLD)\n",
    "\n",
    "\n",
    "DROPLET_CHECK_NAME = 'droplet_check'\n",
    "dfi.loc[:, [DROPLET_CHECK_NAME]] = dfi.apply(\n",
    "    lambda x: droplets_check_fn(x), axis=1)\n",
    "dfi.head()"
   ]
  },
  {
   "cell_type": "markdown",
   "metadata": {},
   "source": [
    "#### Control check"
   ]
  },
  {
   "cell_type": "code",
   "execution_count": null,
   "metadata": {},
   "outputs": [],
   "source": [
    "from pcrep.check import control_check_routing\n",
    "\n",
    "CONTROL_CHECK_COLNAME_ORIG = 'mean [vg/ml]'\n",
    "\n",
    "\n",
    "def control_check_fn(s):\n",
    "    return control_check_routing(dc_limits, s[SAMPLE_TYPE_NAME],\n",
    "                                 s[CONTROL_CHECK_COLNAME_ORIG], s.name[1])\n",
    "\n",
    "\n",
    "CONTROL_CHECK_NAME = 'control_check'\n",
    "dfi.loc[:, [CONTROL_CHECK_NAME]] = dfi.apply(\n",
    "    lambda x: control_check_fn(x), axis=1)\n",
    "dfi.head()"
   ]
  },
  {
   "cell_type": "markdown",
   "metadata": {},
   "source": [
    "#### CV check"
   ]
  },
  {
   "cell_type": "code",
   "execution_count": null,
   "metadata": {},
   "outputs": [],
   "source": [
    "from pcrep.check import cv_check\n",
    "\n",
    "\n",
    "def cv_check_fn(cv_val: float):\n",
    "    return cv_check(cv_val)\n",
    "\n",
    "\n",
    "CV_CHECK_NAME = 'cv_check'\n",
    "dfi.loc[:, [CV_CHECK_NAME]] = dfi.apply(\n",
    "    lambda x: cv_check_fn(x[CV_COLNAME]), axis=1)\n",
    "dfi"
   ]
  },
  {
   "cell_type": "code",
   "execution_count": null,
   "metadata": {},
   "outputs": [],
   "source": [
    "dfi.to_excel(BASE_FILEPATH + '-data_analysis.xlsx')"
   ]
  },
  {
   "cell_type": "markdown",
   "metadata": {},
   "source": [
    "#### Get sample..."
   ]
  },
  {
   "cell_type": "code",
   "execution_count": null,
   "metadata": {},
   "outputs": [],
   "source": [
    "def get_sample(samnple_num, target_type):\n",
    "    idx = pd.IndexSlice\n",
    "    return dfi.loc[idx[samnple_num, target_type, :], :]\n",
    "\n",
    "\n",
    "tmps = get_sample(2, 'IDT')\n",
    "tmps"
   ]
  },
  {
   "cell_type": "code",
   "execution_count": null,
   "metadata": {},
   "outputs": [],
   "source": [
    "import json\n",
    "\n",
    "params_file = './data/params.json'\n",
    "with open(params_file) as json_file:\n",
    "    check_params = json.load(json_file)\n",
    "# print(check_params)"
   ]
  },
  {
   "cell_type": "markdown",
   "metadata": {},
   "source": [
    "## Export report"
   ]
  },
  {
   "cell_type": "code",
   "execution_count": null,
   "metadata": {},
   "outputs": [],
   "source": [
    "# with open('md_intro.md', 'r') as f:\n",
    "#     md_intro = f.read()\n",
    "# with open('md_end.md', 'r') as f:\n",
    "#     md_end = f.read()\n",
    "\n",
    "# md_eval = final.to_markdown()\n",
    "\n",
    "# md = md_intro + md_eval + md_end\n",
    "\n",
    "\n",
    "# def save_md(file_path, md_txt):\n",
    "#     try:\n",
    "#         with open(file_path, 'w') as fl:\n",
    "#             fl.write(md_txt)\n",
    "#     except Exception as e:\n",
    "#         print('Error: ' + str(e))\n",
    "\n",
    "\n",
    "# MD_FILE = './example/230901_GN004308-086/230901_GN004308-086.md'\n",
    "# save_md(MD_FILE, md)\n",
    "\n",
    "# xls_path = os.path.splitext(MD_FILE)[0] + '.xlsx'\n",
    "# final.to_excel(xls_path)"
   ]
  },
  {
   "cell_type": "code",
   "execution_count": null,
   "metadata": {},
   "outputs": [],
   "source": [
    "# from pcrep import mdhandling\n",
    "\n",
    "# with open(os.path.join(DATA_DIR, \"config.json\")) as json_file:\n",
    "#     jd = json.load(json_file)\n",
    "#     reference_doc = jd['reference_docx']\n",
    "#     pdflatex_bin = jd['pdflatex_bin']\n",
    "#     pandoc_bin = jd['pandoc_bin']\n",
    "\n",
    "# mdhandling.md2docx(pandoc_bin, reference_doc, MD_FILE)\n",
    "# print(\"Done.\")"
   ]
  }
 ],
 "metadata": {
  "kernelspec": {
   "display_name": "base",
   "language": "python",
   "name": "python3"
  },
  "language_info": {
   "codemirror_mode": {
    "name": "ipython",
    "version": 3
   },
   "file_extension": ".py",
   "mimetype": "text/x-python",
   "name": "python",
   "nbconvert_exporter": "python",
   "pygments_lexer": "ipython3",
   "version": "3.10.10"
  },
  "orig_nbformat": 4
 },
 "nbformat": 4,
 "nbformat_minor": 2
}
